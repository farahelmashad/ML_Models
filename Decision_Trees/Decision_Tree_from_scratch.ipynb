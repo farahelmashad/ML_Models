{
 "cells": [
  {
   "cell_type": "markdown",
   "id": "08f9eb4d-7d9d-43f2-b601-9a808a8fa0f8",
   "metadata": {},
   "source": [
    "# Implementing Decision Trees from scratch"
   ]
  },
  {
   "cell_type": "code",
   "execution_count": 22,
   "id": "89bea32a-6354-4d8b-8a42-ec50f5b685af",
   "metadata": {},
   "outputs": [],
   "source": [
    "import numpy as np\n",
    "import pandas as pd\n",
    "from collections import Counter"
   ]
  },
  {
   "cell_type": "code",
   "execution_count": 23,
   "id": "75fea6a8-07ce-4a44-bef4-a79551e8588a",
   "metadata": {},
   "outputs": [],
   "source": [
    "class Node:\n",
    "    def __init__(self,feature=None, threshold=None, left=None,right=None, value=None):\n",
    "        self.feature=feature \n",
    "        self.threshold=threshold\n",
    "        self.right=right\n",
    "        self.left=left\n",
    "        self.value=value # if it's a leaf node (majority for classification, mean for regression)"
   ]
  },
  {
   "cell_type": "code",
   "execution_count": 39,
   "id": "5ac9b3d9-7b29-49cc-ab98-38ab8906bcd8",
   "metadata": {},
   "outputs": [],
   "source": [
    "class DecisionTree:\n",
    "    def __init__(self, task='classification', criterion='gini', max_depth=None, min_samples_split=2, min_samples_leaf=1):\n",
    "        self.task=task\n",
    "        if self.task==\"regression\":\n",
    "            self.criterion=\"mse\"\n",
    "        else:\n",
    "            self.criterion=criterion\n",
    "        self.max_depth=max_depth\n",
    "        self.min_samples_split=min_samples_split\n",
    "        self.min_samples_leaf=min_samples_leaf\n",
    "    def fit(self,X,y):\n",
    "        self.X=X\n",
    "        self.y=y\n",
    "        self.n_features=len(X[0])\n",
    "        self.root=self.build_tree(self.X,self.y,depth=0)\n",
    "        \n",
    "    def build_tree(self, X, y, depth):\n",
    "        if ( self.max_depth is not None and depth>=self.max_depth \n",
    "            or len(y)<= self.min_samples_split \n",
    "            or len(y)<= self.min_samples_leaf \n",
    "            or np.unique(y).size == 1):\n",
    "            #print(f\"Leaf node created at depth {depth} with {len(y)} samples and classes {np.unique(y)}\")\n",
    "            if self.task==\"classification\":\n",
    "                values_counter=Counter(y)\n",
    "                majority_class=values_counter.most_common(1)[0][0]\n",
    "                return Node(value=majority_class)\n",
    "            elif self.task==\"regression\":\n",
    "                return Node(value=np.mean(y))\n",
    "                \n",
    "            \n",
    "        best_feature, best_threshold=self.find_best_split(X,y)\n",
    "        X_left,y_left,X_right,y_right=self.split_data(X,y,best_feature,best_threshold)\n",
    "                                                      \n",
    "        left_subtree=self.build_tree(X_left,y_left, depth+1)\n",
    "        right_subtree=self.build_tree(X_right,y_right, depth+1)\n",
    "        \n",
    "        return Node(feature=best_feature, threshold=best_threshold,left=left_subtree, right=right_subtree) \n",
    "\n",
    "    def find_best_split(self, X, y):\n",
    "        best_gini=float('inf')\n",
    "        best_ig=-float('inf')\n",
    "        best_mse=float('inf')\n",
    "        best_feature=None\n",
    "        best_threshold=None\n",
    "        for feature in range(self.n_features):\n",
    "            unique_values=np.array(sorted(np.unique(X[:,feature])))\n",
    "            midpoints=(unique_values[:-1]+unique_values[1:])/2\n",
    "            \n",
    "            for threshold in midpoints:\n",
    "                X_left,y_left,X_right,y_right=self.split_data(X,y,feature,threshold)\n",
    "                if len(y_left) == 0 or len(y_right) == 0:\n",
    "                 continue \n",
    "\n",
    "                if self.criterion==\"gini\":\n",
    "                 weighted_gini=((len(y_left)/len(y))*self.Gini(y_left))+((len(y_right)/len(y))*self.Gini(y_right))\n",
    "                 if weighted_gini<best_gini:\n",
    "                    best_gini=weighted_gini\n",
    "                    best_feature=feature\n",
    "                    best_threshold=threshold\n",
    "                     \n",
    "                elif self.criterion==\"entropy\":\n",
    "                    weighted_entropy=((len(y_left)/len(y))*self.entropy(y_left))+((len(y_right)/len(y))*self.entropy(y_right))\n",
    "                    information_gain=self.entropy(y)-weighted_entropy\n",
    "                    if information_gain> best_ig:\n",
    "                        best_ig=information_gain\n",
    "                        best_feature=feature\n",
    "                        best_threshold=threshold\n",
    "                elif self.task==\"regression\":\n",
    "                    weighted_mse=(((len(y_left)/len(y))*self.mse(y_left)))+(((len(y_right)/len(y))*self.mse(y_right)))\n",
    "                    if weighted_mse<best_mse:\n",
    "                        best_mse=weighted_mse\n",
    "                        best_feature=feature\n",
    "                        best_threshold=threshold\n",
    "                    \n",
    "        return best_feature, best_threshold\n",
    "        \n",
    "    def split_data(self, X, y, feature, threshold):\n",
    "     left = X[:, feature] <= threshold\n",
    "     right = X[:, feature] > threshold\n",
    "     #print(f\"Splitting on feature {feature} at threshold {threshold}\")\n",
    "     #print(f\"Left count: {np.sum(left)}, Right count: {np.sum(right)}\")\n",
    "     X_left = X[left]\n",
    "     y_left = y[left]\n",
    "     X_right = X[right]\n",
    "     y_right = y[right]\n",
    "     return X_left, y_left, X_right, y_right\n",
    "        \n",
    "    def Gini(self,y):\n",
    "        if len(y)==0:\n",
    "            return 0.0\n",
    "        values, counts=np.unique(y, return_counts=True)\n",
    "        probabilites= counts/counts.sum()\n",
    "        return 1-np.sum(probabilites**2)\n",
    "    def entropy(self,y):\n",
    "        if len(y)==0:\n",
    "            return 0.0\n",
    "        values, counts=np.unique(y, return_counts=True)\n",
    "        probabilities=counts/counts.sum()\n",
    "        entropies= -probabilities*np.log2(probabilities+1e-9) # aashan el log 0\n",
    "        return entropies.sum()\n",
    "    def mse(self, y):\n",
    "     if len(y) == 0:\n",
    "        return 0\n",
    "     mean = np.mean(y)\n",
    "     return np.mean((y - mean) ** 2)\n",
    "\n",
    "        \n",
    "    def predict(self, X):\n",
    "     y = np.zeros(X.shape[0]) \n",
    "     for i in range(X.shape[0]):\n",
    "        current = self.root\n",
    "        while current.left is not None or current.right is not None:\n",
    "            if current.value is not None:\n",
    "                y[i] = current.value\n",
    "                break\n",
    "            feature = current.feature\n",
    "            threshold = current.threshold\n",
    "            if X[i, feature] <= threshold:\n",
    "                current = current.left\n",
    "            else:\n",
    "                current = current.right\n",
    "        else:\n",
    "           # current.value is not None:\n",
    "            y[i] = current.value\n",
    "     return y\n"
   ]
  },
  {
   "cell_type": "markdown",
   "id": "2e5cb0d4-1691-4de9-9b4a-96e935600ae2",
   "metadata": {},
   "source": [
    "## Testing the decision tree for classification against sklearn's implementation:"
   ]
  },
  {
   "cell_type": "code",
   "execution_count": 36,
   "id": "e4874b7e-4f08-4dcf-8d71-492f64e2f380",
   "metadata": {},
   "outputs": [
    {
     "name": "stdout",
     "output_type": "stream",
     "text": [
      "Accuracy: 1.00\n",
      "Sklearn accuracy: 1.0\n"
     ]
    }
   ],
   "source": [
    "from sklearn.datasets import load_iris\n",
    "from sklearn.model_selection import train_test_split\n",
    "from sklearn.metrics import accuracy_score\n",
    "\n",
    "iris = load_iris()\n",
    "X = iris.data\n",
    "y = iris.target\n",
    "\n",
    "X_train, X_test, y_train, y_test = train_test_split(X, y, test_size=0.2, random_state=42)\n",
    "\n",
    "clf=DecisionTree()\n",
    "clf.fit(X_train, y_train)\n",
    "\n",
    "y_pred = clf.predict(X_test)\n",
    "\n",
    "accuracy = accuracy_score(y_test, y_pred)\n",
    "print(f\"Accuracy: {accuracy:.2f}\")\n",
    "\n",
    "from sklearn.tree import DecisionTreeClassifier\n",
    "\n",
    "clf_sklearn = DecisionTreeClassifier(random_state=42)\n",
    "clf_sklearn.fit(X_train, y_train)\n",
    "print(\"Sklearn accuracy:\", accuracy_score(y_test, clf_sklearn.predict(X_test)))\n"
   ]
  },
  {
   "cell_type": "markdown",
   "id": "c44714fc-7727-4b9a-aecc-3cca7fe7a190",
   "metadata": {},
   "source": [
    "- we can see that the sklearn accuracy and the implementation accuracies are almost identical =100% , it's high bc the iris dataset is well cleaned, small, and linearly separable"
   ]
  },
  {
   "cell_type": "markdown",
   "id": "450405fc-d9f6-4668-83b8-9f895cf71428",
   "metadata": {},
   "source": [
    "## Testing the decision tree for regression against sklearn's implementation:"
   ]
  },
  {
   "cell_type": "code",
   "execution_count": 44,
   "id": "488ef8e9-a2d1-467a-bc26-cf8166753df2",
   "metadata": {},
   "outputs": [
    {
     "name": "stdout",
     "output_type": "stream",
     "text": [
      "MSE of our model:  0.4209969196416957\n",
      "Time of our model to train:  6.274988889694214\n",
      "MSE of sklearn:  0.40705806345188134\n",
      "Time of sklearn's model to train:  0.1419234275817871\n"
     ]
    }
   ],
   "source": [
    "from sklearn.metrics import mean_squared_error\n",
    "from sklearn.tree import DecisionTreeRegressor\n",
    "from sklearn.datasets import fetch_california_housing\n",
    "import time\n",
    "data = fetch_california_housing()\n",
    "X, y = data.data, data.target\n",
    "X_train, X_test, y_train, y_test = train_test_split(X, y, test_size=0.2, random_state=42)\n",
    "start_time=time.time()\n",
    "dtree=DecisionTree(task=\"regression\", criterion=\"mse\",max_depth=10, min_samples_split=10, min_samples_leaf=5)\n",
    "dtree.fit(X_train,y_train)\n",
    "y_pred=dtree.predict(X_test)\n",
    "print(\"MSE of our model: \", mean_squared_error(y_test, y_pred))\n",
    "end_time=time.time()\n",
    "print(\"Time of our model to train: \", end_time-start_time)\n",
    "\n",
    "start_time=time.time()\n",
    "dtreee=DecisionTreeRegressor(max_depth=10, min_samples_split=10, min_samples_leaf=5)\n",
    "dtreee.fit(X_train,y_train)\n",
    "y_pred_sk=dtreee.predict(X_test)\n",
    "end_time=time.time()\n",
    "\n",
    "print(\"MSE of sklearn: \", mean_squared_error(y_test, y_pred_sk))\n",
    "print(\"Time of sklearn's model to train: \", end_time-start_time)\n",
    "\n",
    "\n"
   ]
  }
 ],
 "metadata": {
  "kernelspec": {
   "display_name": "Python 3 (ipykernel)",
   "language": "python",
   "name": "python3"
  },
  "language_info": {
   "codemirror_mode": {
    "name": "ipython",
    "version": 3
   },
   "file_extension": ".py",
   "mimetype": "text/x-python",
   "name": "python",
   "nbconvert_exporter": "python",
   "pygments_lexer": "ipython3",
   "version": "3.13.2"
  }
 },
 "nbformat": 4,
 "nbformat_minor": 5
}
