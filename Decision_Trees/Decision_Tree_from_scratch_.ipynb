{
  "nbformat": 4,
  "nbformat_minor": 0,
  "metadata": {
    "colab": {
      "provenance": [],
      "authorship_tag": "ABX9TyMlYha/JaEwyDByVzzKdoRA",
      "include_colab_link": true
    },
    "kernelspec": {
      "name": "python3",
      "display_name": "Python 3"
    },
    "language_info": {
      "name": "python"
    }
  },
  "cells": [
    {
      "cell_type": "markdown",
      "metadata": {
        "id": "view-in-github",
        "colab_type": "text"
      },
      "source": [
        "<a href=\"https://colab.research.google.com/github/farahelmashad/ML_Models/blob/main/Decision_Trees/Decision_Tree_from_scratch_.ipynb\" target=\"_parent\"><img src=\"https://colab.research.google.com/assets/colab-badge.svg\" alt=\"Open In Colab\"/></a>"
      ]
    },
    {
      "cell_type": "code",
      "execution_count": 1,
      "metadata": {
        "id": "Rkmpveb489ez"
      },
      "outputs": [],
      "source": [
        "import numpy as np\n",
        "import pandas as pd\n",
        "from collections import Counter\n"
      ]
    },
    {
      "cell_type": "code",
      "source": [
        "class Node:\n",
        "    def __init__(self,feature=None, threshold=None, left=None,right=None, value=None):\n",
        "        self.feature=feature\n",
        "        self.threshold=threshold\n",
        "        self.right=right\n",
        "        self.left=left\n",
        "        self.value=value # if it's a leaf node (majority for classification, mean for regression)\n",
        "    def is_leaf_node(self,node):\n",
        "      return node.value is not None\n",
        "\n"
      ],
      "metadata": {
        "id": "9SMXeyqY9NjK"
      },
      "execution_count": 2,
      "outputs": []
    },
    {
      "cell_type": "code",
      "source": [
        "class DecisionTree:\n",
        "    def __init__(self, task='classification', criterion='gini', max_depth=None, min_samples_split=2, min_samples_leaf=1, n_features=None):\n",
        "        self.task=task\n",
        "        if self.task==\"regression\":\n",
        "            self.criterion=\"mse\"\n",
        "        else:\n",
        "            self.criterion=criterion\n",
        "        self.max_depth=max_depth\n",
        "        self.min_samples_split=min_samples_split\n",
        "        self.min_samples_leaf=min_samples_leaf\n",
        "        self.n_features= len(X[0]) if n_features is None else min(len(X[0]),n_features) # used for random forests\n",
        "    def fit(self,X,y):\n",
        "        self.X=X\n",
        "        self.y=y\n",
        "        self.n_features=len(X[0])\n",
        "        self.root=self.build_tree(self.X,self.y,depth=0)\n",
        "    def build_tree(self, X, y, depth):\n",
        "        #check for the base case or stopping criteria\n",
        "        if ( self.max_depth is not None and depth>=self.max_depth\n",
        "            or len(y)<= self.min_samples_split\n",
        "            or len(y)<= self.min_samples_leaf\n",
        "            or np.unique(y).size == 1):\n",
        "            if self.task==\"classification\":\n",
        "                values_counter=Counter(y)\n",
        "                majority_class=values_counter.most_common(1)[0][0]\n",
        "                return Node(value=majority_class)\n",
        "            elif self.task==\"regression\":\n",
        "                return Node(value=np.mean(y))\n",
        "\n",
        "\n",
        "        best_feature, best_threshold=self.find_best_split(X,y)\n",
        "        X_left,y_left,X_right,y_right=self.split_data(X,y,best_feature,best_threshold)\n",
        "\n",
        "        left_subtree=self.build_tree(X_left,y_left, depth+1)\n",
        "        right_subtree=self.build_tree(X_right,y_right, depth+1)\n",
        "\n",
        "        return Node(feature=best_feature, threshold=best_threshold,left=left_subtree, right=right_subtree)\n",
        "\n",
        "    def find_best_split(self, X, y):\n",
        "        best_gini=float('inf')\n",
        "        best_ig=-float('inf')\n",
        "        best_mse=float('inf')\n",
        "        best_feature=None\n",
        "        best_threshold=None\n",
        "        no_features=len(X[0]) # actual number of feeatures we have\n",
        "        features= np.random.choice(no_features, self.n_features,replace=False)\n",
        "        for feature in features:\n",
        "            # unique_values=np.array(sorted(np.unique(X[:,feature])))\n",
        "            # midpoints=(unique_values[:-1]+unique_values[1:])/2\n",
        "            thresholds = np.percentile(X[:, feature], np.linspace(0, 100, 10))\n",
        "            thresholds = np.unique(thresholds)\n",
        "\n",
        "            for threshold in thresholds:\n",
        "                X_left,y_left,X_right,y_right=self.split_data(X,y,feature,threshold)\n",
        "                if len(y_left) == 0 or len(y_right) == 0:\n",
        "                 continue\n",
        "\n",
        "                if self.criterion==\"gini\":\n",
        "                 weighted_gini=((len(y_left)/len(y))*self.Gini(y_left))+((len(y_right)/len(y))*self.Gini(y_right))\n",
        "                 if weighted_gini<best_gini:\n",
        "                    best_gini=weighted_gini\n",
        "                    best_feature=feature\n",
        "                    best_threshold=threshold\n",
        "\n",
        "                elif self.criterion==\"entropy\":\n",
        "                    weighted_entropy=((len(y_left)/len(y))*self.entropy(y_left))+((len(y_right)/len(y))*self.entropy(y_right))\n",
        "                    information_gain=self.entropy(y)-weighted_entropy\n",
        "                    if information_gain> best_ig:\n",
        "                        best_ig=information_gain\n",
        "                        best_feature=feature\n",
        "                        best_threshold=threshold\n",
        "                elif self.task==\"regression\":\n",
        "                    weighted_mse=(((len(y_left)/len(y))*self.mse(y_left)))+(((len(y_right)/len(y))*self.mse(y_right)))\n",
        "                    if weighted_mse<best_mse:\n",
        "                        best_mse=weighted_mse\n",
        "                        best_feature=feature\n",
        "                        best_threshold=threshold\n",
        "\n",
        "        return best_feature, best_threshold\n",
        "\n",
        "    def split_data(self, X, y, feature, threshold):\n",
        "     left = X[:, feature] <= threshold\n",
        "     right = X[:, feature] > threshold\n",
        "     X_left = X[left]\n",
        "     y_left = y[left]\n",
        "     X_right = X[right]\n",
        "     y_right = y[right]\n",
        "     return X_left, y_left, X_right, y_right\n",
        "\n",
        "    def Gini(self,y):\n",
        "        if len(y)==0:\n",
        "            return 0.0\n",
        "        values, counts=np.unique(y, return_counts=True)\n",
        "        probabilites= counts/counts.sum()\n",
        "        return 1-np.sum(probabilites**2)\n",
        "    def entropy(self,y):\n",
        "        if len(y)==0:\n",
        "            return 0.0\n",
        "        values, counts=np.unique(y, return_counts=True)\n",
        "        probabilities=counts/counts.sum()\n",
        "        entropies= -probabilities*np.log2(probabilities+1e-9) # aashan el log 0\n",
        "        return entropies.sum()\n",
        "    def mse(self, y):\n",
        "     if len(y) == 0:\n",
        "        return 0\n",
        "     mean = np.mean(y)\n",
        "     return np.mean((y - mean) ** 2)\n",
        "\n",
        "    def traverse_tree(self,x,node):\n",
        "      if node.is_leaf_node(node):\n",
        "        return node.value\n",
        "      if x[node.feature]<=node.threshold:\n",
        "        return self.traverse_tree(x,node.left)\n",
        "      elif x[node.feature]>node.threshold:\n",
        "        return self.traverse_tree(x,node.right)\n",
        "\n",
        "\n",
        "    def predict(self, X):\n",
        "     y = [self.traverse_tree(x, self.root) for x in X]\n",
        "     return np.array(y)\n",
        "\n",
        "\n",
        "\n"
      ],
      "metadata": {
        "id": "FiNeKbz-9RHw"
      },
      "execution_count": 3,
      "outputs": []
    },
    {
      "cell_type": "markdown",
      "source": [
        "## Testing the decision tree for classification against sklearn's implementation:\n"
      ],
      "metadata": {
        "id": "VLNj5CH5DYpg"
      }
    },
    {
      "cell_type": "code",
      "source": [
        "from sklearn.datasets import load_iris\n",
        "from sklearn.model_selection import train_test_split\n",
        "from sklearn.metrics import accuracy_score\n",
        "\n",
        "iris = load_iris()\n",
        "X = iris.data\n",
        "y = iris.target\n",
        "\n",
        "X_train, X_test, y_train, y_test = train_test_split(X, y, test_size=0.2, random_state=42)\n",
        "\n",
        "clf=DecisionTree(n_features=2)\n",
        "clf.fit(X_train, y_train)\n",
        "\n",
        "y_pred = clf.predict(X_test)\n",
        "\n",
        "accuracy = accuracy_score(y_test, y_pred)\n",
        "print(f\"Accuracy: {accuracy:.2f}\")\n",
        "\n",
        "from sklearn.tree import DecisionTreeClassifier\n",
        "\n",
        "clf_sklearn = DecisionTreeClassifier(random_state=42)\n",
        "clf_sklearn.fit(X_train, y_train)\n",
        "print(\"Sklearn accuracy:\", accuracy_score(y_test, clf_sklearn.predict(X_test)))\n"
      ],
      "metadata": {
        "colab": {
          "base_uri": "https://localhost:8080/"
        },
        "id": "dPVdPZdl9YMw",
        "outputId": "66965a28-6d67-4d43-9dfe-4bdbf91ec4ce"
      },
      "execution_count": 4,
      "outputs": [
        {
          "output_type": "stream",
          "name": "stdout",
          "text": [
            "Accuracy: 1.00\n",
            "Sklearn accuracy: 1.0\n"
          ]
        }
      ]
    },
    {
      "cell_type": "markdown",
      "source": [
        "- we can see that the sklearn accuracy and the implementation accuracies are almost identical =100% , it's high bc the iris dataset is well cleaned, small, and linearly separable\n"
      ],
      "metadata": {
        "id": "vpkq1RHWDbZD"
      }
    },
    {
      "cell_type": "markdown",
      "source": [
        "## Testing the decision tree for regression against sklearn's implementation:\n"
      ],
      "metadata": {
        "id": "CpVP8kk2Dhgj"
      }
    },
    {
      "cell_type": "code",
      "source": [
        "from sklearn.metrics import mean_squared_error\n",
        "from sklearn.tree import DecisionTreeRegressor\n",
        "from sklearn.datasets import fetch_california_housing\n",
        "import time\n",
        "data = fetch_california_housing()\n",
        "X, y = data.data, data.target\n",
        "X_train, X_test, y_train, y_test = train_test_split(X, y, test_size=0.2, random_state=42)\n",
        "start_time=time.time()\n",
        "dtree=DecisionTree(task=\"regression\", criterion=\"mse\",max_depth=10, min_samples_split=10, min_samples_leaf=5)\n",
        "dtree.fit(X_train,y_train)\n",
        "y_pred=dtree.predict(X_test)\n",
        "print(\"MSE of our model: \", mean_squared_error(y_test, y_pred))\n",
        "end_time=time.time()\n",
        "print(\"Time of our model to train: \", end_time-start_time)\n",
        "\n",
        "start_time=time.time()\n",
        "dtreee=DecisionTreeRegressor(max_depth=10, min_samples_split=10, min_samples_leaf=5)\n",
        "dtreee.fit(X_train,y_train)\n",
        "y_pred_sk=dtreee.predict(X_test)\n",
        "end_time=time.time()\n",
        "\n",
        "print(\"MSE of sklearn: \", mean_squared_error(y_test, y_pred_sk))\n",
        "print(\"Time of sklearn's model to train: \", end_time-start_time)\n"
      ],
      "metadata": {
        "colab": {
          "base_uri": "https://localhost:8080/"
        },
        "id": "2JTjD_9fDJgm",
        "outputId": "9a4307cb-c804-4fa1-fb6f-3a6734225660"
      },
      "execution_count": 7,
      "outputs": [
        {
          "output_type": "stream",
          "name": "stdout",
          "text": [
            "MSE of our model:  0.4199474349385503\n",
            "Time of our model to train:  3.7840235233306885\n",
            "MSE of sklearn:  0.4069562378184981\n",
            "Time of sklearn's model to train:  0.14514827728271484\n"
          ]
        }
      ]
    },
    {
      "cell_type": "code",
      "source": [],
      "metadata": {
        "id": "aRyLb3r8Do4c"
      },
      "execution_count": 5,
      "outputs": []
    }
  ]
}