{
 "cells": [
  {
   "cell_type": "markdown",
   "id": "9ac17829-6bfe-4562-844d-e312e13bd1ca",
   "metadata": {},
   "source": [
    "# Linear Regression From Scratch"
   ]
  },
  {
   "cell_type": "code",
   "execution_count": 34,
   "id": "0d199437-ade2-4662-9c32-567623c1238d",
   "metadata": {},
   "outputs": [],
   "source": [
    "import numpy as np\n",
    "import pandas as pd\n",
    "from sklearn.model_selection import train_test_split\n",
    "import matplotlib.pyplot as plt\n",
    "import seaborn as sns\n"
   ]
  },
  {
   "cell_type": "code",
   "execution_count": 64,
   "id": "2ed93123-936b-4097-a624-747a03530b26",
   "metadata": {},
   "outputs": [],
   "source": [
    "class Linear_Regression:\n",
    "    def __init__(self, alpha, no_of_iterations):\n",
    "        self.alpha=alpha\n",
    "        self.no_of_iterations=no_of_iterations\n",
    "\n",
    "    def fit(self,x,y):\n",
    "        if x.ndim == 1:\n",
    "            x = x.reshape(-1, 1)  \n",
    "\n",
    "        self.m, self.n=x.shape # training data size (n) and no of features (m)  \n",
    "        self.w=np.zeros(self.n)\n",
    "        self.b=0.0\n",
    "        self.x=x\n",
    "        self.y=y\n",
    "        self.J=[]\n",
    "\n",
    "        for i in range(self.no_of_iterations):\n",
    "            self.update_weights()\n",
    "            \n",
    "    def update_weights(self):\n",
    "        y_pred=self.predict(self.x)\n",
    "        error=y_pred-self.y\n",
    "        self.calculate_cost(error)\n",
    "        dj_db=np.sum(error)*(1/self.m) #partial deriv of the cost function wrt the bias\n",
    "        dj_dw=np.zeros(self.n)\n",
    "        dj_dw=self.x.T@error *(1/self.m) # using SGD\n",
    "        self.w-=(self.alpha*dj_dw)\n",
    "        self.b-=(self.alpha*dj_db)\n",
    "        \n",
    "    \n",
    "    def predict(self, x):\n",
    "        if x.ndim == 1:\n",
    "         x = x.reshape(-1, 1)\n",
    "\n",
    "        return (x@self.w)+ self.b\n",
    "    def score(self, y_pred, y):\n",
    "        RSS = np.sum((y - y_pred) ** 2)\n",
    "        TSS = np.sum((y - np.mean(y)) ** 2)\n",
    "        r2 = 1 - (RSS / TSS)\n",
    "        mse = np.sum((y - y_pred) ** 2) / (2 * self.m)\n",
    "        return mse, r2\n",
    "    def calculate_cost(self,error):\n",
    "         self.J.append(np.sum((error**2))/(2*self.m))\n",
    "        \n",
    "        \n",
    "       "
   ]
  },
  {
   "cell_type": "markdown",
   "id": "702bbadf-f9d4-44c8-8614-1ac600e71348",
   "metadata": {},
   "source": [
    "## Standard Scaler"
   ]
  },
  {
   "cell_type": "code",
   "execution_count": 36,
   "id": "b9b9fca8-1470-4e9f-b54c-176c35d94b96",
   "metadata": {},
   "outputs": [],
   "source": [
    "class StandardScaler : \n",
    "    def __init__ (self):\n",
    "        self.mean = None\n",
    "        self.std = None\n",
    "\n",
    "    def fit(self,x): \n",
    "        \n",
    "        if x.ndim==1:\n",
    "            x=x.reshape(-1,1)\n",
    "        self.mean=np.mean(x,axis=0)\n",
    "        self.std=np.std(x,axis=0)\n",
    "    def transform(self,x):\n",
    "        return ((x-self.mean)/self.std)\n",
    "    def fit_transform(self,x):\n",
    "        self.fit(x)\n",
    "        return self.transform(x)"
   ]
  },
  {
   "cell_type": "markdown",
   "id": "da615704-c1d7-4c28-93bc-e07dc11806e3",
   "metadata": {},
   "source": [
    "## Utilizing the model"
   ]
  },
  {
   "cell_type": "code",
   "execution_count": 37,
   "id": "644e0dc9-fb5a-42c0-8eb7-469f65562cc7",
   "metadata": {},
   "outputs": [
    {
     "data": {
      "text/html": [
       "<div>\n",
       "<style scoped>\n",
       "    .dataframe tbody tr th:only-of-type {\n",
       "        vertical-align: middle;\n",
       "    }\n",
       "\n",
       "    .dataframe tbody tr th {\n",
       "        vertical-align: top;\n",
       "    }\n",
       "\n",
       "    .dataframe thead th {\n",
       "        text-align: right;\n",
       "    }\n",
       "</style>\n",
       "<table border=\"1\" class=\"dataframe\">\n",
       "  <thead>\n",
       "    <tr style=\"text-align: right;\">\n",
       "      <th></th>\n",
       "      <th>YearsExperience</th>\n",
       "      <th>Salary</th>\n",
       "    </tr>\n",
       "  </thead>\n",
       "  <tbody>\n",
       "    <tr>\n",
       "      <th>0</th>\n",
       "      <td>1.1</td>\n",
       "      <td>39343</td>\n",
       "    </tr>\n",
       "    <tr>\n",
       "      <th>1</th>\n",
       "      <td>1.3</td>\n",
       "      <td>46205</td>\n",
       "    </tr>\n",
       "    <tr>\n",
       "      <th>2</th>\n",
       "      <td>1.5</td>\n",
       "      <td>37731</td>\n",
       "    </tr>\n",
       "    <tr>\n",
       "      <th>3</th>\n",
       "      <td>2.0</td>\n",
       "      <td>43525</td>\n",
       "    </tr>\n",
       "    <tr>\n",
       "      <th>4</th>\n",
       "      <td>2.2</td>\n",
       "      <td>39891</td>\n",
       "    </tr>\n",
       "  </tbody>\n",
       "</table>\n",
       "</div>"
      ],
      "text/plain": [
       "   YearsExperience  Salary\n",
       "0              1.1   39343\n",
       "1              1.3   46205\n",
       "2              1.5   37731\n",
       "3              2.0   43525\n",
       "4              2.2   39891"
      ]
     },
     "execution_count": 37,
     "metadata": {},
     "output_type": "execute_result"
    }
   ],
   "source": [
    "#some preprocessing just for trying the model: \n",
    "salary_data=pd.read_csv(r\"D:\\Downloads\\salary_data.csv\")\n",
    "salary_data.head()"
   ]
  },
  {
   "cell_type": "code",
   "execution_count": 38,
   "id": "270422c5-1d03-4a1a-9405-2c06057b9811",
   "metadata": {},
   "outputs": [
    {
     "data": {
      "text/plain": [
       "(30, 2)"
      ]
     },
     "execution_count": 38,
     "metadata": {},
     "output_type": "execute_result"
    }
   ],
   "source": [
    "salary_data.shape"
   ]
  },
  {
   "cell_type": "code",
   "execution_count": 39,
   "id": "3331efb2-24cf-4aa7-97dc-c353cf28e467",
   "metadata": {},
   "outputs": [
    {
     "data": {
      "text/plain": [
       "YearsExperience    0\n",
       "Salary             0\n",
       "dtype: int64"
      ]
     },
     "execution_count": 39,
     "metadata": {},
     "output_type": "execute_result"
    }
   ],
   "source": [
    "salary_data.isnull().sum()"
   ]
  },
  {
   "cell_type": "code",
   "execution_count": 40,
   "id": "efbc12e4-fdb6-4a34-b7ef-ed8124ad4472",
   "metadata": {},
   "outputs": [],
   "source": [
    "#splitting the features and target\n",
    "x=salary_data.iloc[ : , :-1].values\n",
    "y=salary_data.iloc[:, -1].values\n"
   ]
  },
  {
   "cell_type": "code",
   "execution_count": 41,
   "id": "743dbe84-8e0e-4d31-a133-a9f1abe51b22",
   "metadata": {},
   "outputs": [],
   "source": [
    "# train test split: \n",
    "x_train, x_test, y_train, y_test= train_test_split(x,y, test_size=0.2, random_state=2 )"
   ]
  },
  {
   "cell_type": "code",
   "execution_count": 67,
   "id": "6bad34af-6d1f-4451-b525-eb4ccd8bc786",
   "metadata": {},
   "outputs": [
    {
     "name": "stdout",
     "output_type": "stream",
     "text": [
      "TRAINING MSE SCORE:13990176.914716085 \n",
      " TRAINING R2 SCORE: 0.9627340388783991\n",
      "TEST MSE SCORE:8676044.264969198 \n",
      " TEST R2 SCORE: 0.8623834559547073\n"
     ]
    }
   ],
   "source": [
    "# training the linear regression model now\n",
    "model=Linear_Regression(alpha=0.01, no_of_iterations=1000)\n",
    "model.fit(x_train, y_train)\n",
    "y_pred_train=model.predict(x_train)\n",
    "mse_train,r2_train=model.score(y_pred_train,y_train)\n",
    "y_pred_test=model.predict(x_test)\n",
    "mse_test,r2_test=model.score(y_pred_test,y_test)\n",
    "print(f\"TRAINING MSE SCORE:{mse_train} \\n TRAINING R2 SCORE: {r2_train}\")\n",
    "print(f\"TEST MSE SCORE:{mse_test} \\n TEST R2 SCORE: {r2_test}\")\n"
   ]
  },
  {
   "cell_type": "markdown",
   "id": "5779df87-2abd-411d-b005-537dd0feaf75",
   "metadata": {},
   "source": [
    "## Visualizing the Results"
   ]
  },
  {
   "cell_type": "code",
   "execution_count": 74,
   "id": "57f26264-fd55-4fc2-b092-0384dacefb26",
   "metadata": {},
   "outputs": [
    {
     "data": {
      "image/png": "[encoded data removed]",
      "text/plain": [
       "<Figure size 640x480 with 1 Axes>"
      ]
     },
     "metadata": {},
     "output_type": "display_data"
    }
   ],
   "source": [
    "plt.scatter(x_test,y_test,color='red')\n",
    "plt.plot(x_test,y_pred_test, color='blue')\n",
    "plt.xlabel('Years of experience')\n",
    "plt.ylabel('Salary')\n",
    "plt.title('Years of Experience vs Salary')\n",
    "plt.show()"
   ]
  },
  {
   "cell_type": "code",
   "execution_count": 75,
   "id": "a8f90f45-1d38-4dab-8b54-8c37cea98108",
   "metadata": {},
   "outputs": [
    {
     "data": {
      "image/png": "[encoded data removed]",
      "text/plain": [
       "<Figure size 640x480 with 1 Axes>"
      ]
     },
     "metadata": {},
     "output_type": "display_data"
    }
   ],
   "source": [
    "plt.scatter(x_train,y_train,color='red')\n",
    "plt.plot(x_train,y_pred_train, color='blue')\n",
    "plt.xlabel('Years of experience')\n",
    "plt.ylabel('Salary')\n",
    "plt.title('Years of Experience vs Salary')\n",
    "\n",
    "plt.show()"
   ]
  },
  {
   "cell_type": "code",
   "execution_count": null,
   "id": "ca624a14-e953-4a7d-96ed-49021641f1b3",
   "metadata": {},
   "outputs": [],
   "source": []
  }
 ],
 "metadata": {
  "kernelspec": {
   "display_name": "Python 3 (ipykernel)",
   "language": "python",
   "name": "python3"
  },
  "language_info": {
   "codemirror_mode": {
    "name": "ipython",
    "version": 3
   },
   "file_extension": ".py",
   "mimetype": "text/x-python",
   "name": "python",
   "nbconvert_exporter": "python",
   "pygments_lexer": "ipython3",
   "version": "3.13.2"
  }
 },
 "nbformat": 4,
 "nbformat_minor": 5
}
