{
  "nbformat": 4,
  "nbformat_minor": 0,
  "metadata": {
    "colab": {
      "provenance": [],
      "authorship_tag": "ABX9TyMv2W9wOk0JzcENvwwUVWpi",
      "include_colab_link": true
    },
    "kernelspec": {
      "name": "python3",
      "display_name": "Python 3"
    },
    "language_info": {
      "name": "python"
    }
  },
  "cells": [
    {
      "cell_type": "markdown",
      "metadata": {
        "id": "view-in-github",
        "colab_type": "text"
      },
      "source": [
        "<a href=\"https://colab.research.google.com/github/farahelmashad/ML_Models/blob/main/Random_Forest/Random_Forest_from_scratch.ipynb\" target=\"_parent\"><img src=\"https://colab.research.google.com/assets/colab-badge.svg\" alt=\"Open In Colab\"/></a>"
      ]
    },
    {
      "cell_type": "markdown",
      "source": [
        "# Random Forest from scratch\n"
      ],
      "metadata": {
        "id": "eKX7EpzYqrcj"
      }
    },
    {
      "cell_type": "code",
      "execution_count": 4,
      "metadata": {
        "id": "fncPPhDbqelZ"
      },
      "outputs": [],
      "source": [
        "import numpy as np\n",
        "import pandas as pd\n",
        "from collections import Counter\n",
        "from scipy.stats import mode\n",
        "\n"
      ]
    },
    {
      "cell_type": "markdown",
      "source": [
        "## Decision tree implementation for our random forest:\n"
      ],
      "metadata": {
        "id": "YwaxtfQIq0LL"
      }
    },
    {
      "cell_type": "code",
      "source": [
        "class Node:\n",
        "    def __init__(self,feature=None, threshold=None, left=None,right=None, value=None):\n",
        "        self.feature=feature\n",
        "        self.threshold=threshold\n",
        "        self.right=right\n",
        "        self.left=left\n",
        "        self.value=value # if it's a leaf node (majority for classification, mean for regression)\n",
        "    def is_leaf_node(self,node):\n",
        "      return node.value is not None\n"
      ],
      "metadata": {
        "id": "f_cC2ZYmqkhr"
      },
      "execution_count": 2,
      "outputs": []
    },
    {
      "cell_type": "code",
      "source": [
        "class DecisionTree:\n",
        "    def __init__(self, task='classification', criterion='gini', max_depth=None, min_samples_split=2, min_samples_leaf=1, n_features=None):\n",
        "        self.task=task\n",
        "        if self.task==\"regression\":\n",
        "            self.criterion=\"mse\"\n",
        "        else:\n",
        "            self.criterion=criterion\n",
        "        self.max_depth=max_depth\n",
        "        self.min_samples_split=min_samples_split\n",
        "        self.min_samples_leaf=min_samples_leaf\n",
        "        self.n_features= len(X[0]) if n_features is None else min(len(X[0]),n_features) # used for random forests\n",
        "    def fit(self,X,y):\n",
        "        self.X=X\n",
        "        self.y=y\n",
        "        self.n_features=len(X[0])\n",
        "        self.root=self.build_tree(self.X,self.y,depth=0)\n",
        "    def build_tree(self, X, y, depth):\n",
        "        #check for the base case or stopping criteria\n",
        "        if ( self.max_depth is not None and depth>=self.max_depth\n",
        "            or len(y)<= self.min_samples_split\n",
        "            or len(y)<= self.min_samples_leaf\n",
        "            or np.unique(y).size == 1):\n",
        "            if self.task==\"classification\":\n",
        "                values_counter=Counter(y)\n",
        "                majority_class=values_counter.most_common(1)[0][0]\n",
        "                return Node(value=majority_class)\n",
        "            elif self.task==\"regression\":\n",
        "                return Node(value=np.mean(y))\n",
        "\n",
        "\n",
        "        best_feature, best_threshold=self.find_best_split(X,y)\n",
        "        X_left,y_left,X_right,y_right=self.split_data(X,y,best_feature,best_threshold)\n",
        "\n",
        "        left_subtree=self.build_tree(X_left,y_left, depth+1)\n",
        "        right_subtree=self.build_tree(X_right,y_right, depth+1)\n",
        "\n",
        "        return Node(feature=best_feature, threshold=best_threshold,left=left_subtree, right=right_subtree)\n",
        "\n",
        "    def find_best_split(self, X, y):\n",
        "        best_gini=float('inf')\n",
        "        best_ig=-float('inf')\n",
        "        best_mse=float('inf')\n",
        "        best_feature=None\n",
        "        best_threshold=None\n",
        "        no_features=len(X[0]) # actual number of feeatures we have\n",
        "        features= np.random.choice(no_features, self.n_features,replace=False)\n",
        "        for feature in features:\n",
        "            # unique_values=np.array(sorted(np.unique(X[:,feature])))\n",
        "            # midpoints=(unique_values[:-1]+unique_values[1:])/2\n",
        "            thresholds = np.percentile(X[:, feature], np.linspace(0, 100, 10))\n",
        "            thresholds = np.unique(thresholds)\n",
        "\n",
        "            for threshold in thresholds:\n",
        "                X_left,y_left,X_right,y_right=self.split_data(X,y,feature,threshold)\n",
        "                if len(y_left) == 0 or len(y_right) == 0:\n",
        "                 continue\n",
        "\n",
        "                if self.criterion==\"gini\":\n",
        "                 weighted_gini=((len(y_left)/len(y))*self.Gini(y_left))+((len(y_right)/len(y))*self.Gini(y_right))\n",
        "                 if weighted_gini<best_gini:\n",
        "                    best_gini=weighted_gini\n",
        "                    best_feature=feature\n",
        "                    best_threshold=threshold\n",
        "\n",
        "                elif self.criterion==\"entropy\":\n",
        "                    weighted_entropy=((len(y_left)/len(y))*self.entropy(y_left))+((len(y_right)/len(y))*self.entropy(y_right))\n",
        "                    information_gain=self.entropy(y)-weighted_entropy\n",
        "                    if information_gain> best_ig:\n",
        "                        best_ig=information_gain\n",
        "                        best_feature=feature\n",
        "                        best_threshold=threshold\n",
        "                elif self.task==\"regression\":\n",
        "                    weighted_mse=(((len(y_left)/len(y))*self.mse(y_left)))+(((len(y_right)/len(y))*self.mse(y_right)))\n",
        "                    if weighted_mse<best_mse:\n",
        "                        best_mse=weighted_mse\n",
        "                        best_feature=feature\n",
        "                        best_threshold=threshold\n",
        "\n",
        "        return best_feature, best_threshold\n",
        "\n",
        "    def split_data(self, X, y, feature, threshold):\n",
        "     left = X[:, feature] <= threshold\n",
        "     right = X[:, feature] > threshold\n",
        "     X_left = X[left]\n",
        "     y_left = y[left]\n",
        "     X_right = X[right]\n",
        "     y_right = y[right]\n",
        "     return X_left, y_left, X_right, y_right\n",
        "\n",
        "    def Gini(self,y):\n",
        "        if len(y)==0:\n",
        "            return 0.0\n",
        "        values, counts=np.unique(y, return_counts=True)\n",
        "        probabilites= counts/counts.sum()\n",
        "        return 1-np.sum(probabilites**2)\n",
        "    def entropy(self,y):\n",
        "        if len(y)==0:\n",
        "            return 0.0\n",
        "        values, counts=np.unique(y, return_counts=True)\n",
        "        probabilities=counts/counts.sum()\n",
        "        entropies= -probabilities*np.log2(probabilities+1e-9) # aashan el log 0\n",
        "        return entropies.sum()\n",
        "    def mse(self, y):\n",
        "     if len(y) == 0:\n",
        "        return 0\n",
        "     mean = np.mean(y)\n",
        "     return np.mean((y - mean) ** 2)\n",
        "\n",
        "    def traverse_tree(self,x,node):\n",
        "      if node.is_leaf_node(node):\n",
        "        return node.value\n",
        "      if x[node.feature]<=node.threshold:\n",
        "        return self.traverse_tree(x,node.left)\n",
        "      elif x[node.feature]>node.threshold:\n",
        "        return self.traverse_tree(x,node.right)\n",
        "\n",
        "\n",
        "    def predict(self, X):\n",
        "     y = [self.traverse_tree(x, self.root) for x in X]\n",
        "     return np.array(y)\n"
      ],
      "metadata": {
        "id": "oucwCl5Xqm3l"
      },
      "execution_count": 3,
      "outputs": []
    },
    {
      "cell_type": "code",
      "source": [
        "class RandomForest:\n",
        "  def __init__(self,task=\"classification\",n_estimators=100, *, criterion='gini', max_depth=None, min_samples_split=2, min_samples_leaf=1, max_features='sqrt', bootstrap=True):\n",
        "    self.task=task\n",
        "    self.n_estimators=n_estimators\n",
        "    self.criterion= criterion if task==\"classification\" else \"mse\"\n",
        "    self.max_depth=max_depth\n",
        "    self.min_samples_split=min_samples_split\n",
        "    self.min_samples_leaf=min_samples_leaf\n",
        "    self.max_features=max_features if task==\"classification\" else \"n/3\"\n",
        "    self.bootstrap=bootstrap\n",
        "    self.trees=[]\n",
        "  def fit(self, X, y):\n",
        "    self.X=X\n",
        "    self.y=y\n",
        "    #set the number of features for the trees\n",
        "    if self.max_features==\"sqrt\":\n",
        "      self.n_features=int(np.sqrt(X.shape[1]))\n",
        "    elif self.max_features==\"log2\":\n",
        "      self.n_features=int(np.log2(X.shape[1]))\n",
        "    elif self.task==\"regression\":\n",
        "      self.n_features=int(X.shape[1]/3)\n",
        "    #create the trees\n",
        "    self.trees = [\n",
        "     DecisionTree(\n",
        "        task=self.task,\n",
        "        criterion=self.criterion,\n",
        "        max_depth=self.max_depth,\n",
        "        min_samples_split=self.min_samples_split,\n",
        "        min_samples_leaf=self.min_samples_leaf,\n",
        "        n_features=self.n_features\n",
        "    )\n",
        "    for _ in range(self.n_estimators)]\n",
        "    for tree in self.trees:\n",
        "      if self.bootstrap:\n",
        "        X_sample, y_sample=self._bootstrap(X,y)\n",
        "        tree.fit(X_sample,y_sample)\n",
        "      else:\n",
        "        tree.fit(X,y)\n",
        "\n",
        "\n",
        "  def _bootstrap(self,X,y):\n",
        "    random_indices=np.random.choice(len(X),len(X), replace=True)\n",
        "    return X[random_indices], y[random_indices]\n",
        "\n",
        "  def predict(self, X):\n",
        "    final=[]\n",
        "    predictions=np.array([tree.predict(X) for tree in self.trees])\n",
        "\n",
        "    if self.task==\"classification\":\n",
        "      majority_votes, _ = mode(predictions, axis=0)\n",
        "      return majority_votes.flatten()\n",
        "\n",
        "    elif self.task==\"regression\":\n",
        "      return np.mean(predictions,axis=0)\n",
        "\n",
        "\n",
        "\n",
        "\n",
        "\n",
        ""
      ],
      "metadata": {
        "id": "AGwOhf-Oq-aS"
      },
      "execution_count": 5,
      "outputs": []
    },
    {
      "cell_type": "markdown",
      "source": [
        "# Testing the Random Forest for classification against sklearn's implementation"
      ],
      "metadata": {
        "id": "hQccE_qy5cFx"
      }
    },
    {
      "cell_type": "code",
      "source": [
        "from sklearn.datasets import load_iris\n",
        "from sklearn.model_selection import train_test_split\n",
        "from sklearn.metrics import accuracy_score\n",
        "\n",
        "iris = load_iris()\n",
        "X = iris.data\n",
        "y = iris.target\n",
        "\n",
        "X_train, X_test, y_train, y_test = train_test_split(X, y, test_size=0.2, random_state=42)\n",
        "\n",
        "rf=RandomForest(n_estimators=100, criterion=\"gini\", max_depth=10, min_samples_split=2, min_samples_leaf=1, max_features=\"sqrt\", bootstrap=True)\n",
        "rf.fit(X_train,y_train)\n",
        "\n",
        "y_pred = rf.predict(X_test)\n",
        "\n",
        "train_accuracy=accuracy_score(y_train, rf.predict(X_train))\n",
        "accuracy = accuracy_score(y_test, y_pred)\n",
        "print(f\" Train Accuracy: {train_accuracy:.2f} \\n Test Accuracy: {accuracy:.2f}\")\n",
        "\n",
        "from sklearn.ensemble import RandomForestClassifier\n",
        "from sklearn.metrics import accuracy_score\n",
        "\n",
        "rf_sklearn = RandomForestClassifier(n_estimators=100, criterion=\"gini\", max_depth=10)\n",
        "rf_sklearn.fit(X_train, y_train)\n",
        "\n",
        "print(\"Sklearn train accuracy: \", accuracy_score(y_train, rf_sklearn.predict(X_train)))\n",
        "print(\"Sklearn test accuracy:\", accuracy_score(y_test, rf_sklearn.predict(X_test)))\n"
      ],
      "metadata": {
        "colab": {
          "base_uri": "https://localhost:8080/"
        },
        "id": "3zm7SuMC4x9A",
        "outputId": "cb82c4ff-e3ea-4401-be5d-1580858f139c"
      },
      "execution_count": 8,
      "outputs": [
        {
          "output_type": "stream",
          "name": "stdout",
          "text": [
            " Train Accuracy: 1.00 \n",
            " Test Accuracy: 1.00\n",
            "Sklearn train accuracy:  1.0\n",
            "Sklearn test accuracy: 1.0\n"
          ]
        }
      ]
    },
    {
      "cell_type": "code",
      "source": [
        "from sklearn.metrics import mean_squared_error\n",
        "from sklearn.ensemble import RandomForestRegressor\n",
        "from sklearn.datasets import fetch_california_housing\n",
        "from sklearn.metrics import r2_score\n",
        "data = fetch_california_housing()\n",
        "\n",
        "X, y = data.data, data.target\n",
        "X_train, X_test, y_train, y_test = train_test_split(X, y, test_size=0.2, random_state=42)\n",
        "rf=RandomForest(n_estimators=100,task=\"regression\", criterion=\"mse\",max_depth=10, min_samples_split=10, min_samples_leaf=5)\n",
        "rf.fit(X_train,y_train)\n",
        "y_pred=rf.predict(X_test)\n",
        "print(\"Random forest implementation: \")\n",
        "print(\"MSE of our model (train): \", mean_squared_error(y_train, rf.predict(X_train)))\n",
        "print(\"MSE of our model (test): \", mean_squared_error(y_test, y_pred))\n",
        "print(\"r2 score of our model (train): \", r2_score(y_train,rf.predict(X_train)))\n",
        "print(\"r2 score of our model (train): \", r2_score(y_test,y_pred))\n",
        "print(\"\")\n",
        "rff=RandomForestRegressor(n_estimators=100,max_depth=10, min_samples_split=10, min_samples_leaf=5)\n",
        "rff.fit(X_train,y_train)\n",
        "y_pred_sk=rff.predict(X_test)\n",
        "print(\"Scikit learn's implementation: \")\n",
        "print(\"MSE of our model (train): \", mean_squared_error(y_train, rff.predict(X_train)))\n",
        "print(\"MSE of our model (test): \", mean_squared_error(y_test, y_pred_sk))\n",
        "print(\"r2 score of our model (train): \", r2_score(y_train,rff.predict(X_train)))\n",
        "print(\"r2 score of our model (train): \", r2_score(y_test,y_pred_sk))\n",
        "\n"
      ],
      "metadata": {
        "colab": {
          "base_uri": "https://localhost:8080/"
        },
        "id": "LHuQ3XFk6MnA",
        "outputId": "ecfd2ab5-4adc-46ff-b5de-fe337fe4fb29"
      },
      "execution_count": 18,
      "outputs": [
        {
          "output_type": "stream",
          "name": "stdout",
          "text": [
            "Random forest implementation: \n",
            "MSE of our model (train):  0.20448307352773165\n",
            "MSE of our model (test):  0.3181240317854817\n",
            "r2 score of our model (train):  0.8470329096297821\n",
            "r2 score of our model (train):  0.7572330187995711\n",
            "\n",
            "Scikit learn's implementation: \n",
            "MSE of our model (train):  0.19346647916572288\n",
            "MSE of our model (test):  0.2964034068148744\n",
            "r2 score of our model (train):  0.8552740630723279\n",
            "r2 score of our model (train):  0.7738084737386582\n"
          ]
        }
      ]
    },
    {
      "cell_type": "code",
      "source": [],
      "metadata": {
        "id": "_Qy6gRb_AI7G"
      },
      "execution_count": null,
      "outputs": []
    }
  ]
}