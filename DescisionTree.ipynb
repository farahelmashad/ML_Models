{
  "nbformat": 4,
  "nbformat_minor": 0,
  "metadata": {
    "colab": {
      "provenance": [],
      "authorship_tag": "ABX9TyPpAb2dApzBD6TbAagWuUZs",
      "include_colab_link": true
    },
    "kernelspec": {
      "name": "python3",
      "display_name": "Python 3"
    },
    "language_info": {
      "name": "python"
    }
  },
  "cells": [
    {
      "cell_type": "markdown",
      "metadata": {
        "id": "view-in-github",
        "colab_type": "text"
      },
      "source": [
        "<a href=\"https://colab.research.google.com/github/farahelmashad/ML_Models/blob/main/DescisionTree.ipynb\" target=\"_parent\"><img src=\"https://colab.research.google.com/assets/colab-badge.svg\" alt=\"Open In Colab\"/></a>"
      ]
    },
    {
      "cell_type": "code",
      "source": [
        "import numpy as np\n",
        "import pandas as pd\n",
        "import matplotlib.pyplot as plt\n",
        "from collections import Counter\n"
      ],
      "metadata": {
        "id": "elrbiG7Pc_nG"
      },
      "execution_count": 2,
      "outputs": []
    },
    {
      "cell_type": "code",
      "execution_count": 12,
      "metadata": {
        "id": "H5GhXWeuVatc"
      },
      "outputs": [],
      "source": [
        "class Node:\n",
        "    def __init__(self, feature=None,threshold=None,left=None,right=None,*,value=None):\n",
        "        self.feature = feature\n",
        "        self.threshold = threshold\n",
        "        self.left = left\n",
        "        self.right = right\n",
        "        self.value = value\n",
        "    def is_leaf_node(self):\n",
        "      return self.value is not None\n",
        "\n",
        "class DecisionTree:\n",
        "    def __init__(self, min_samples_split=2, max_depth=100,n_features=None):\n",
        "        self.min_samples_split = min_samples_split\n",
        "        self.max_depth = max_depth\n",
        "        self.n_features = n_features\n",
        "        self.root = None\n",
        "\n",
        "    def fit(self,X,y):\n",
        "      self.n_features=X.shape[1] if not self.n_features else min(X.shape[1],self.n_features)\n",
        "      self.root=self._grow_tree(X,y)\n",
        "\n",
        "    def _grow_tree(self,X,y,depth=0):\n",
        "      #checking the stopping criteria\n",
        "      n_samples,n_feats=X.shape\n",
        "      n_labels=len(np.unique(y))\n",
        "      if (depth>=self.max_depth or n_labels==1 or n_samples< self.min_samples_split):\n",
        "        leaf_value=self._most_common_label(y)\n",
        "        return Node(value=leaf_value)\n",
        "\n",
        "      #find the best split:\n",
        "      features=np.random.choice(n_feats, self.n_features, replace=False)\n",
        "      best_threshold,best_feature=self._best_split(X,y,features)\n",
        "\n",
        "      # create child nodes:\n",
        "      left_indices, right_indices=self._split(X[:, best_feature],best_threshold)\n",
        "      left=self._grow_tree(X[left_indices,:],y[left_indices],depth+1)\n",
        "      right=self._grow_tree(X[right_indices,:],y[right_indices],depth+1)\n",
        "      return Node(best_feature, best_threshold, left, right)\n",
        "\n",
        "\n",
        "\n",
        "\n",
        "    def _best_split(self,X,y,features):\n",
        "      best_ig=-float('inf')\n",
        "      best_feature,best_threshold=None,None\n",
        "      for feature in features:\n",
        "        X_column=X[:, feature]\n",
        "        thresholds=np.unique(X_column)\n",
        "\n",
        "        for threshold in thresholds:\n",
        "          ig=self._information_gain(y,X_column, threshold)\n",
        "          if ig>best_ig:\n",
        "            best_ig=ig\n",
        "            best_feature=feature\n",
        "            best_threshold=threshold\n",
        "\n",
        "      return best_threshold, best_feature\n",
        "\n",
        "    def _information_gain(self,y,X_column, threshold):\n",
        "\n",
        "      parent_entropy=self._entropy(y)\n",
        "      left_indices, right_indices=self._split(X_column, threshold)\n",
        "      if len(left_indices)==0 or len(right_indices)==0:\n",
        "        return 0.0 # no information gain, useless split, entropy one of the children will be exaclty the same as the parent and the other will be 0 , ig=0\n",
        "      left_entropy=self._entropy(y[left_indices])\n",
        "      right_entropy=self._entropy(y[right_indices])\n",
        "      weighted_entropy=((len(left_indices)/len(y))*left_entropy)+((len(right_indices)/len(y))*right_entropy)\n",
        "      information_gain=parent_entropy-weighted_entropy\n",
        "      return information_gain\n",
        "\n",
        "\n",
        "\n",
        "\n",
        "\n",
        "\n",
        "\n",
        "\n",
        "\n",
        "    def _split(self,X_column, threshold):\n",
        "      left_indices=np.argwhere(X_column<=threshold).flatten()\n",
        "      right_indices=np.argwhere(X_column>threshold).flatten()\n",
        "      return left_indices, right_indices\n",
        "    def _entropy(self,y):\n",
        "      _, counts= np.unique(y, return_counts=True)\n",
        "      probs=counts/counts.sum()\n",
        "      entropies=-probs*np.log2(probs)\n",
        "      return entropies.sum()\n",
        "\n",
        "\n",
        "\n",
        "    def _most_common_label(self,y):\n",
        "      counter=Counter(y)\n",
        "      return counter.most_common(1)[0][0]\n",
        "\n",
        "    def predict(self, X):\n",
        "     return np.array([self._traverse_tree(x, self.root) for x in X])\n",
        "\n",
        "    def _traverse_tree(self, x, node):\n",
        "      if node.is_leaf_node():\n",
        "        return node.value\n",
        "      if x[node.feature]<=node.threshold:\n",
        "        return self._traverse_tree(x, node.left)\n",
        "      else:\n",
        "        return self._traverse_tree(x,node.right)\n",
        "\n",
        "\n",
        "\n",
        "\n",
        "\n",
        "\n",
        "\n"
      ]
    },
    {
      "cell_type": "code",
      "source": [
        "from sklearn import datasets\n",
        "from sklearn.model_selection import train_test_split\n",
        "from sklearn.metrics import accuracy_score\n",
        "data=datasets.load_iris()\n",
        "X,y=data.data,data.target\n",
        "X_train,X_test,y_train,y_test=train_test_split(X,y,test_size=0.2,random_state=1234)\n",
        "\n",
        "clf=DecisionTree()\n",
        "clf.fit(X_train,y_train)\n",
        "y_pred=clf.predict(X_test)\n",
        "acc=accuracy_score(y_test,y_pred)\n",
        "print(acc)"
      ],
      "metadata": {
        "colab": {
          "base_uri": "https://localhost:8080/"
        },
        "id": "71Wr1Ioa2Xoc",
        "outputId": "2dd0466c-c703-4926-ee3c-c6fa1c0ef963"
      },
      "execution_count": 13,
      "outputs": [
        {
          "output_type": "stream",
          "name": "stdout",
          "text": [
            "0.9666666666666667\n"
          ]
        }
      ]
    },
    {
      "cell_type": "code",
      "source": [],
      "metadata": {
        "id": "54mOeVfE3LI_"
      },
      "execution_count": null,
      "outputs": []
    }
  ]
}